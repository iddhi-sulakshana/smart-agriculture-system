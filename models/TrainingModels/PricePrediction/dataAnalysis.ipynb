{
 "cells": [
  {
   "cell_type": "code",
   "execution_count": null,
   "metadata": {},
   "outputs": [],
   "source": [
    "# Data Manipulation Tools\n",
    "import pandas as pd\n",
    "import numpy as np\n",
    "\n",
    "# Data Visualization Tools\n",
    "import matplotlib.pyplot as plt\n",
    "import seaborn as sns\n",
    "\n",
    "# Data Preprocessing Tools\n",
    "from sklearn.impute import SimpleImputer\n",
    "from sklearn.preprocessing import LabelEncoder\n",
    "\n",
    "import warnings\n",
    "warnings.filterwarnings(action='ignore')"
   ]
  },
  {
   "cell_type": "code",
   "execution_count": null,
   "metadata": {},
   "outputs": [],
   "source": [
    "priceData = pd.read_csv(\"./data/processed/pricesList.csv\")\n",
    "uniqueNames = priceData['Name'].unique()\n",
    "def extractDate(data):\n",
    "    data2 = data.copy()\n",
    "    data2[\"Datetime\"] = pd.to_datetime(data2[['Year', 'Month']].assign(day=(data2[\"Week\"]-1)*7 +1))\n",
    "    data2 = data2.set_index('Datetime')\n",
    "    data2 = data2.drop(columns=['Year', 'Month', 'Week', 'Season'])\n",
    "    return data2\n",
    "priceData = extractDate(priceData)\n",
    "priceData = priceData[priceData['Name'] == uniqueNames[0]]\n",
    "priceData = priceData.drop(columns=['Name'])"
   ]
  },
  {
   "cell_type": "code",
   "execution_count": null,
   "metadata": {},
   "outputs": [],
   "source": [
    "rainfallData = pd.read_csv(\"./data/processed/rainfallData.csv\")\n",
    "def extractDate2(data):\n",
    "    data2 = data.copy()\n",
    "    data2[\"Datetime\"] = pd.to_datetime(data2[['year', 'month']].assign(day=1))\n",
    "    data2 = data2.set_index('Datetime')\n",
    "    data2 = data2.sort_index()\n",
    "    data2 = data2.drop(columns=['year', 'month'])\n",
    "    return data2\n",
    "rainfallData = extractDate2(rainfallData)"
   ]
  },
  {
   "cell_type": "code",
   "execution_count": null,
   "metadata": {},
   "outputs": [],
   "source": [
    "fuelData = pd.read_csv(\"./data/processed/ceypetcoPrices.csv\")\n",
    "def extractDate3(data):\n",
    "    data2 = data.copy()\n",
    "    data2 = data2[~data2[\"Date\"].str.contains(\"PM\")]\n",
    "    data2[\"Datetime\"] = pd.to_datetime(data2[\"Date\"], format='%d.%m.%Y')\n",
    "    data2 = data2.set_index('Datetime')\n",
    "    data2 = data2.sort_index()\n",
    "    data2 = data2.drop(columns=['Date'])\n",
    "    return data2\n",
    "fuelData = extractDate3(fuelData)"
   ]
  },
  {
   "cell_type": "code",
   "execution_count": null,
   "metadata": {},
   "outputs": [],
   "source": [
    "dollarData = pd.read_csv(\"./data/processed/dollarRate.csv\")\n",
    "def extractDate4(data):\n",
    "    data2 = data.copy()\n",
    "    data2[\"Datetime\"] = pd.to_datetime(data2[\"Date\"])\n",
    "    data2 = data2.set_index('Datetime')\n",
    "    data2 = data2.drop(columns=['Date'])\n",
    "    return data2\n",
    "dollarData = extractDate4(dollarData)"
   ]
  },
  {
   "cell_type": "code",
   "execution_count": null,
   "metadata": {},
   "outputs": [],
   "source": [
    "def imputeData(data, column):\n",
    "    imputer = SimpleImputer(strategy='mean', missing_values=np.nan)\n",
    "    imputer = imputer.fit(data[[column]])\n",
    "    data[[column]] = imputer.transform(data[[column]])\n",
    "    data[column] = data[column].round(2)\n",
    "    return data\n",
    "priceData = imputeData(priceData, \"Price\")\n",
    "fuelData = imputeData(fuelData, \"Price\")\n"
   ]
  },
  {
   "cell_type": "code",
   "execution_count": null,
   "metadata": {},
   "outputs": [],
   "source": [
    "# rainfall data plot\n",
    "fix, ax = plt.subplots(figsize=(15, 5))\n",
    "priceData[\"Price\"].plot(ax=ax, color=\"red\")\n",
    "rainfallData[\"anuradhapura\"].plot(ax=ax, alpha=0.7, color=\"green\")\n",
    "rainfallData[\"jaffna\"].plot(ax=ax, alpha=0.7, color=\"orange\")\n",
    "rainfallData[\"nuwaraeliya\"].plot(ax=ax, alpha=0.7, color=\"blue\")\n",
    "ax.set_title(\"Rainfall Data to Vegetable Price\")\n",
    "ax.legend([\"Vegetable Price\", \"Anuradhapura\", \"Jaffna\", \"Nuwara Eliya\"])\n",
    "plt.show()"
   ]
  },
  {
   "cell_type": "code",
   "execution_count": null,
   "metadata": {},
   "outputs": [],
   "source": [
    "fix, ax = plt.subplots(figsize=(15, 5))\n",
    "priceData['Price'].plot(ax=ax, color=\"red\")\n",
    "(dollarData[\"Buy Rate\"] * 2).plot(ax=ax, alpha=0.5)\n",
    "(dollarData[\"Sell Rate\"] * 2).plot(ax=ax, alpha=0.5)\n",
    "ax.set_title(\"Dollar Rate to Vegetable Price\")\n",
    "ax.legend([\"Vegetable Price\", \"Buy Rate\", \"Sell Rate\"])"
   ]
  },
  {
   "cell_type": "code",
   "execution_count": null,
   "metadata": {},
   "outputs": [],
   "source": [
    "# Plot the data\n",
    "fix, ax = plt.subplots(figsize=(15, 5))\n",
    "priceData['Price'].plot(ax=ax, color=\"red\") \n",
    "(fuelData[fuelData[\"Name\"] == fuelData[\"Name\"].unique()[5]][\"Price\"].loc[\"2017-01-01\":] * 2).plot(ax=ax, alpha=0.7)\n",
    "(fuelData[fuelData[\"Name\"] == fuelData[\"Name\"].unique()[4]][\"Price\"].loc[\"2017-01-01\":] * 2).plot(ax=ax, alpha=0.7)\n",
    "ax.set_title(\"Fuel Price to Vegetable Price\")\n",
    "ax.legend([\"Vegetable Price\", \"LAD Price (Lanka Auto Diesel)\", \"LP92 Price (Lanka Petrol 92)\"])"
   ]
  },
  {
   "cell_type": "code",
   "execution_count": null,
   "metadata": {},
   "outputs": [],
   "source": [
    "fuelData[\"Name\"].unique()"
   ]
  }
 ],
 "metadata": {
  "kernelspec": {
   "display_name": "Python 3",
   "language": "python",
   "name": "python3"
  },
  "language_info": {
   "codemirror_mode": {
    "name": "ipython",
    "version": 3
   },
   "file_extension": ".py",
   "mimetype": "text/x-python",
   "name": "python",
   "nbconvert_exporter": "python",
   "pygments_lexer": "ipython3",
   "version": "3.12.0"
  }
 },
 "nbformat": 4,
 "nbformat_minor": 2
}
