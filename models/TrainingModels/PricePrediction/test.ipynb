{
 "cells": [
  {
   "cell_type": "code",
   "execution_count": null,
   "metadata": {},
   "outputs": [],
   "source": [
    "\n",
    "from sklearn.metrics import  mean_squared_error \n",
    "from sklearn.model_selection import TimeSeriesSplit\n",
    "from tensorflow.keras.models import Sequential\n",
    "from tensorflow.keras.layers import Dense, LSTM, Dropout\n",
    "from tensorflow.keras.optimizers import Adam\n",
    "from sklearn.preprocessing import MinMaxScaler, StandardScaler\n",
    "\n",
    "# Data Manipulation Tools\n",
    "import pandas as pd\n",
    "import numpy as np\n",
    "\n",
    "# Data Visualization Tools\n",
    "import matplotlib.pyplot as plt\n",
    "import seaborn as sns\n",
    "\n",
    "# Data Preprocessing Tools\n",
    "from sklearn.impute import SimpleImputer\n",
    "from sklearn.preprocessing import LabelEncoder\n",
    "\n",
    "import warnings\n",
    "warnings.filterwarnings(action='ignore')"
   ]
  },
  {
   "cell_type": "code",
   "execution_count": null,
   "metadata": {},
   "outputs": [],
   "source": [
    "priceData = pd.read_csv(\"./data/processed/pricesList.csv\")\n",
    "priceData.drop('Season', axis=1, inplace=True)"
   ]
  },
  {
   "cell_type": "code",
   "execution_count": null,
   "metadata": {},
   "outputs": [],
   "source": [
    "def imputeData(data, column):\n",
    "    imputer = SimpleImputer(missing_values = pd.NA, strategy ='mean')\n",
    "    imputer.fit(data[[column]])\n",
    "    # round to 2 decimal places\n",
    "    data[column] = imputer.transform(data[[column]])\n",
    "    data[column] = data[column].round(2)"
   ]
  },
  {
   "cell_type": "code",
   "execution_count": null,
   "metadata": {},
   "outputs": [],
   "source": [
    "def createLagFeatures(data, lag):\n",
    "    data2 = data.copy()\n",
    "    data2[\"Price_Lag\"] = data2[\"Price\"].shift(lag)\n",
    "    return data2"
   ]
  },
  {
   "cell_type": "code",
   "execution_count": null,
   "metadata": {},
   "outputs": [],
   "source": [
    "def createRollingFeatures(data, window):\n",
    "    data2 = data.copy()\n",
    "    data2[\"Price_Mean\"] = data2[\"Price\"].rolling(window=window).mean().shift(1)\n",
    "    return data2"
   ]
  },
  {
   "cell_type": "code",
   "execution_count": null,
   "metadata": {},
   "outputs": [],
   "source": [
    "uniqueNames = priceData['Name'].unique()\n",
    "\n",
    "for name in uniqueNames:\n",
    "    # impute missing values for each name\n",
    "    nameData = priceData[priceData['Name'] == name].copy()\n",
    "    imputeData(nameData, 'Price')\n",
    "\n",
    "    # create lag features for each name\n",
    "    nameData = createLagFeatures(nameData, 1)\n",
    "\n",
    "    # create rolling features for each name\n",
    "    nameData = createRollingFeatures(nameData, 4)\n",
    "    priceData.loc[priceData['Name'] == name, ['Price', \"Price_Lag\", \"Price_Mean\"]] = nameData[['Price', \"Price_Lag\", \"Price_Mean\"]]\n"
   ]
  },
  {
   "cell_type": "code",
   "execution_count": null,
   "metadata": {},
   "outputs": [],
   "source": [
    "# Label Encoding\n",
    "labelEncoder = LabelEncoder()\n",
    "priceData['Name'] = labelEncoder.fit_transform(priceData['Name'])\n",
    "uniqueNames = priceData['Name'].unique()"
   ]
  },
  {
   "cell_type": "code",
   "execution_count": null,
   "metadata": {},
   "outputs": [],
   "source": [
    "# Set the index to the date \n",
    "priceData[\"Datetime\"] = pd.to_datetime(priceData[['Year', 'Month']].assign(day=(priceData[\"Week\"]-1)*7 +1))\n",
    "priceData.set_index(\"Datetime\", inplace=True)\n",
    "\n",
    "priceData.dropna(inplace=True)\n",
    "priceData = priceData[priceData['Name'] == 0]\n",
    "priceData.drop('Name', axis=1, inplace=True)"
   ]
  },
  {
   "cell_type": "code",
   "execution_count": null,
   "metadata": {},
   "outputs": [],
   "source": [
    "# split the data into train and test\n",
    "split = \"2023-01-01\"\n",
    "trainData = priceData[priceData.index < split]\n",
    "testData = priceData[priceData.index >= split]"
   ]
  },
  {
   "cell_type": "code",
   "execution_count": null,
   "metadata": {},
   "outputs": [],
   "source": [
    "X_train = trainData.drop('Price', axis=1)\n",
    "y_train = trainData['Price']\n",
    "X_test = testData.drop('Price', axis=1)\n",
    "y_test = testData['Price']"
   ]
  },
  {
   "cell_type": "code",
   "execution_count": null,
   "metadata": {},
   "outputs": [],
   "source": [
    "# Standardize the data\n",
    "scaler = StandardScaler()\n",
    "X_train = scaler.fit_transform(X_train)\n",
    "X_test = scaler.transform(X_test)"
   ]
  },
  {
   "cell_type": "code",
   "execution_count": null,
   "metadata": {},
   "outputs": [],
   "source": [
    "# Build the neural network model\n",
    "model = Sequential()\n",
    "model.add(Dense(128, input_dim=X_train.shape[1], activation='relu'))\n",
    "model.add(Dense(32, activation='relu'))\n",
    "model.add(Dense(16, activation='relu'))\n",
    "model.add(Dense(1))  # Output layer for regression\n",
    "model.compile(optimizer='adam', loss='mse')"
   ]
  },
  {
   "cell_type": "code",
   "execution_count": null,
   "metadata": {},
   "outputs": [],
   "source": [
    "history = model.fit(X_train, y_train, validation_data=(X_test, y_test), epochs=500, batch_size=16)"
   ]
  },
  {
   "cell_type": "code",
   "execution_count": null,
   "metadata": {},
   "outputs": [],
   "source": [
    "# Evaluate the model\n",
    "NN_pred = model.predict(X_test)\n",
    "rmse = round(np.sqrt(mean_squared_error(y_test, NN_pred)), 2)\n",
    "score = round(model.evaluate(X_test, y_test, verbose=0), 2)\n",
    "print(\"RMSE: \", rmse)\n",
    "print(\"Score: \", score)\n"
   ]
  },
  {
   "cell_type": "code",
   "execution_count": null,
   "metadata": {},
   "outputs": [],
   "source": [
    "# Plot the results\n",
    "fig, ax = plt.subplots(1, 1, figsize=(15, 5))\n",
    "ax.plot(testData.index, testData[\"Price\"], label=\"Actual Price\")\n",
    "predictions = model.predict(scaler.transform(testData.drop('Price', axis=1)))\n",
    "ax.plot(testData.index, predictions, label=\"Predicted Price\", linestyle='dashed')\n",
    "plt.legend()\n",
    "plt.show()"
   ]
  }
 ],
 "metadata": {
  "kernelspec": {
   "display_name": "Python 3",
   "language": "python",
   "name": "python3"
  },
  "language_info": {
   "codemirror_mode": {
    "name": "ipython",
    "version": 3
   },
   "file_extension": ".py",
   "mimetype": "text/x-python",
   "name": "python",
   "nbconvert_exporter": "python",
   "pygments_lexer": "ipython3",
   "version": "3.12.0"
  }
 },
 "nbformat": 4,
 "nbformat_minor": 2
}
