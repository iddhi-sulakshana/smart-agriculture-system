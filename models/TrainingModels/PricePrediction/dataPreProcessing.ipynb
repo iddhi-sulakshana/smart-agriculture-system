{
 "cells": [
  {
   "cell_type": "code",
   "execution_count": null,
   "metadata": {},
   "outputs": [],
   "source": [
    "import json\n",
    "import pandas as pd"
   ]
  },
  {
   "cell_type": "code",
   "execution_count": null,
   "metadata": {},
   "outputs": [],
   "source": [
    "# Load the dataset\n",
    "with open('./data/unprocessed/pricesList.json') as pricef:\n",
    "    priceData = json.load(pricef)\n",
    "\n",
    "with open(\"./data/unprocessed/productList.json\") as productf:\n",
    "    products = json.load(productf)\n",
    "\n",
    "with open(\"./data/unprocessed/dollarRate.csv\") as dollarf:\n",
    "    dollarRate = pd.read_csv(dollarf)\n",
    "\n",
    "with open(\"./data/unprocessed/ceypetcoPrices.json\") as ceypetcof:\n",
    "    ceypetcoPrice = json.load(ceypetcof)"
   ]
  },
  {
   "cell_type": "markdown",
   "metadata": {},
   "source": [
    "# Price Data Pre Process"
   ]
  },
  {
   "cell_type": "code",
   "execution_count": null,
   "metadata": {},
   "outputs": [],
   "source": [
    "month_map = {\n",
    "    '' : 0,\n",
    "    'Jan': 1,\n",
    "    'Feb': 2,\n",
    "    'Mar': 3,\n",
    "    'Apr': 4,\n",
    "    'May': 5,\n",
    "    'Jun': 6,\n",
    "    'June': 6,\n",
    "    'Jul': 7,\n",
    "    'July': 7,\n",
    "    'Aug': 8,\n",
    "    'Sep': 9,\n",
    "    'Oct': 10,\n",
    "    'Nov': 11,\n",
    "    'Dec': 12\n",
    "}"
   ]
  },
  {
   "cell_type": "code",
   "execution_count": null,
   "metadata": {},
   "outputs": [],
   "source": [
    "# initialize lists to store extracted products data\n",
    "codeName = []\n",
    "product = []\n",
    "category = []\n",
    "\n",
    "for p in products:\n",
    "      codeName.append(p[\"product\"])\n",
    "      product.append(p[\"name\"])\n",
    "      category.append(p[\"category\"])\n",
    "    "
   ]
  },
  {
   "cell_type": "code",
   "execution_count": null,
   "metadata": {},
   "outputs": [],
   "source": [
    "# Initialize lists to store extracted price data\n",
    "names = []\n",
    "prices = []\n",
    "weeks = []\n",
    "months = []\n",
    "years = []\n",
    "seasons = []"
   ]
  },
  {
   "cell_type": "code",
   "execution_count": null,
   "metadata": {},
   "outputs": [],
   "source": [
    "# Iterate over each week's data\n",
    "for week_data in priceData:\n",
    "    # Extract the week, month, and year from the date\n",
    "    # Ordinal Encoding\n",
    "    date_parts = week_data['Date'].split('.')\n",
    "    week = int(date_parts[0][1:])\n",
    "    month = month_map.get(date_parts[1])\n",
    "    year = int(date_parts[2])\n",
    "\n",
    "    if month in range(3, 5):\n",
    "        season = \"First Inter-monsoon Season\"\n",
    "    elif month in range(5, 10):\n",
    "        season = \"South-West Monsoon Season\"\n",
    "    elif month in range(10, 12):\n",
    "        season = \"Second Inter-monsoon Season\"\n",
    "    else:\n",
    "        season = \"North-East Monsoon Season\"\n",
    "    \n",
    "    # Iterate over each item in the week's data\n",
    "    for item_name, price in week_data.items():\n",
    "        # Skip the 'Date' key\n",
    "        if item_name == 'Date':            \n",
    "            continue\n",
    "        # skip imported items\n",
    "        if \"Imported\" in item_name:\n",
    "            continue\n",
    "        # skip SPICES and FISH items\n",
    "        if \"SPICES\" in item_name:\n",
    "            continue\n",
    "        if \"FISH\" in item_name:\n",
    "            continue\n",
    "        if \"Fish\" in item_name:\n",
    "            continue\n",
    "        if \"MEAT\" in item_name:\n",
    "            continue\n",
    "        if \"BAKERY\" in item_name:\n",
    "            continue\n",
    "        if \"MILK\" in item_name:\n",
    "            continue\n",
    "        if \"COCONUT\" in item_name:\n",
    "            continue\n",
    "        if \"EGGS\" in item_name:\n",
    "            continue\n",
    "        if \"FLOUR\" in item_name:\n",
    "            continue\n",
    "        if (\"Carrot_UPCVEG_1kg\" not in item_name) and (\"Leeks_UPCVEG_1kg\" not in item_name) and (\"Green_Chillies_LCVEG_1kg\" not in item_name) and (\"BeetRoot_UPCVEG_1kg\" not in item_name):\n",
    "            continue\n",
    "        # Append extracted data to lists\n",
    "        names.append(item_name)\n",
    "        prices.append(price)\n",
    "        weeks.append(week)\n",
    "        months.append(month)\n",
    "        years.append(year)\n",
    "        seasons.append(season)"
   ]
  },
  {
   "cell_type": "code",
   "execution_count": null,
   "metadata": {},
   "outputs": [],
   "source": [
    "# Create a DataFrame from the extracted data\n",
    "df = pd.DataFrame({\n",
    "    'Name': names,\n",
    "    'Price': prices,\n",
    "    'Week': weeks,\n",
    "    'Month': months,\n",
    "    'Year': years,\n",
    "    \"Season\": seasons\n",
    "})\n",
    "\n",
    "df1 = pd.DataFrame({\n",
    "    \"code\": codeName,\n",
    "    \"name\": product,\n",
    "    \"category\": category\n",
    "})"
   ]
  },
  {
   "cell_type": "code",
   "execution_count": null,
   "metadata": {},
   "outputs": [],
   "source": [
    "# Save the DataFrame to a CSV file\n",
    "df.to_csv('./data/processed/pricesList.csv', index=False)\n",
    "df1.to_csv('./data/processed/productList.csv', index=False)\n",
    "print(\"CSV file saved successfully.\")"
   ]
  },
  {
   "cell_type": "markdown",
   "metadata": {},
   "source": [
    "# Fuel Price Pre Process"
   ]
  },
  {
   "cell_type": "code",
   "execution_count": null,
   "metadata": {},
   "outputs": [],
   "source": [
    "# Initialize lists to store extracted price data\n",
    "date = []\n",
    "names = []\n",
    "prices = []"
   ]
  },
  {
   "cell_type": "code",
   "execution_count": null,
   "metadata": {},
   "outputs": [],
   "source": [
    "for prices_data in ceypetcoPrice:\n",
    "    for item_name, price in prices_data.items():\n",
    "        # Skip the 'Date' key\n",
    "        if item_name == 'Date':            \n",
    "            continue\n",
    "        # Append extracted data to lists\n",
    "        names.append(item_name)\n",
    "        prices.append(price)\n",
    "        date.append(prices_data[\"Date\"])\n"
   ]
  },
  {
   "cell_type": "code",
   "execution_count": null,
   "metadata": {},
   "outputs": [],
   "source": [
    "print(date.__len__())\n",
    "print(names.__len__())\n",
    "print(prices.__len__())"
   ]
  },
  {
   "cell_type": "code",
   "execution_count": null,
   "metadata": {},
   "outputs": [],
   "source": [
    "df = pd.DataFrame({\n",
    "    'Date': date,\n",
    "    'Name': names,\n",
    "    'Price': prices\n",
    "})\n",
    "df.set_index('Date', inplace=True)\n",
    "df.reset_index(inplace=True)"
   ]
  },
  {
   "cell_type": "code",
   "execution_count": null,
   "metadata": {},
   "outputs": [],
   "source": [
    "df.to_csv('./data/processed/ceypetcoPrices.csv', index=False)"
   ]
  },
  {
   "cell_type": "markdown",
   "metadata": {},
   "source": [
    "# Rainfall Data Pre Process"
   ]
  },
  {
   "cell_type": "code",
   "execution_count": null,
   "metadata": {},
   "outputs": [],
   "source": [
    "# Read the Excel file\n",
    "data = pd.read_excel('./data/unprocessed/rainfallData.xls')"
   ]
  },
  {
   "cell_type": "code",
   "execution_count": null,
   "metadata": {},
   "outputs": [],
   "source": [
    "data.columns = map(str.lower, data.columns)\n",
    "# drop if id column is nan\n",
    "data = data.dropna(subset=['id'])\n",
    "# drop unwanted columns\n",
    "data = data.drop(columns=['id', 'longitude', 'latitude', 'elevation', 'code', 'abbreviation'])\n",
    "data.info()"
   ]
  },
  {
   "cell_type": "code",
   "execution_count": null,
   "metadata": {},
   "outputs": [],
   "source": [
    "def month_to_column(month):\n",
    "    months = ['jan', 'feb', 'mar', 'apr', 'may', 'jun', 'jul', 'aug', 'sep', 'oct', 'nov', 'dec']\n",
    "    return months[month - 1]"
   ]
  },
  {
   "cell_type": "code",
   "execution_count": null,
   "metadata": {},
   "outputs": [],
   "source": [
    "# Create an empty DataFrame to store the reshaped data\n",
    "reshaped_data = pd.DataFrame(columns=['anuradhapura', 'jaffna', 'nuwaraeliya', 'year', 'month'])\n",
    "\n",
    "# Iterate over years from 2017 to 2022\n",
    "for year in range(2017, 2023):\n",
    "    rows = data[data['yyyy'] == year].iterrows()\n",
    "    # temp variable to store the all the stations month data\n",
    "    anuradhapura = []\n",
    "    jaffna = []\n",
    "    nuwaraeliya = []\n",
    "    # iterate over the rows and append month data\n",
    "    for index, row in rows:\n",
    "        for month in range(1, 13):\n",
    "            if row['station_name'] == 'ANURADHAPURA':\n",
    "                anuradhapura.append(row[month_to_column(month)])\n",
    "            elif row['station_name'] == 'JAFFNA':\n",
    "                jaffna.append(row[month_to_column(month)])\n",
    "            elif row['station_name'] == 'NUWARA ELIYA':\n",
    "                nuwaraeliya.append(row[month_to_column(month)])\n",
    "    # iterate over the months and append the data to the reshaped DataFrame\n",
    "    for month in range(1, 13):\n",
    "        reshaped_data = pd.concat([reshaped_data, pd.DataFrame({'anuradhapura': [anuradhapura[month-1]], 'jaffna': [jaffna[month-1]], 'nuwaraeliya': [nuwaraeliya[month-1]], 'year': [year], 'month': [month]})])"
   ]
  },
  {
   "cell_type": "code",
   "execution_count": null,
   "metadata": {},
   "outputs": [],
   "source": [
    "reshaped_data.to_csv('./data/processed/rainfallData.csv', index=False)"
   ]
  }
 ],
 "metadata": {
  "kernelspec": {
   "display_name": "Python 3",
   "language": "python",
   "name": "python3"
  },
  "language_info": {
   "codemirror_mode": {
    "name": "ipython",
    "version": 3
   },
   "file_extension": ".py",
   "mimetype": "text/x-python",
   "name": "python",
   "nbconvert_exporter": "python",
   "pygments_lexer": "ipython3",
   "version": "3.12.0"
  }
 },
 "nbformat": 4,
 "nbformat_minor": 2
}
