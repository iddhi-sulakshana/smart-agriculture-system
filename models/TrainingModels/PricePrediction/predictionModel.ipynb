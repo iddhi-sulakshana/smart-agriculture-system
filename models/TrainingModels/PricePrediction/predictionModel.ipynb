{
 "cells": [
  {
   "cell_type": "code",
   "execution_count": null,
   "id": "e4735799",
   "metadata": {},
   "outputs": [],
   "source": [
    "import pandas as pd\n",
    "\n",
    "from sklearn.model_selection import train_test_split\n",
    "from catboost import CatBoostRegressor\n",
    "from sklearn.ensemble import RandomForestRegressor\n",
    "from sklearn.metrics import  mean_squared_error \n",
    "from sklearn.preprocessing import OneHotEncoder\n",
    "from sklearn.compose import ColumnTransformer\n",
    "from sklearn.pipeline import Pipeline\n",
    "from xgboost import XGBRegressor\n",
    "\n",
    "import warnings\n",
    "warnings.filterwarnings(action='ignore')\n",
    "\n",
    "import seaborn as sns\n",
    "import plotly.express as px\n",
    "import matplotlib.pyplot as plt"
   ]
  },
  {
   "cell_type": "markdown",
   "id": "e09af589",
   "metadata": {},
   "source": [
    "# Data Preprocessing"
   ]
  },
  {
   "cell_type": "code",
   "execution_count": null,
   "id": "a1282bad",
   "metadata": {},
   "outputs": [],
   "source": [
    "priceData = pd.read_csv(\"./data/processed/pricesList.csv\")\n",
    "rainfallData = pd.read_csv(\"./data/processed/rainfallData.csv\")"
   ]
  },
  {
   "cell_type": "code",
   "execution_count": null,
   "id": "5735cf32",
   "metadata": {},
   "outputs": [],
   "source": [
    "u_priceData = priceData.copy()\n",
    "# iterate through the rainfallData and add the rainfall to the priceData\n",
    "for index, row in rainfallData.iterrows():\n",
    "    # match the year and month from the rainfall data to the pricedata\n",
    "    year = row['year']\n",
    "    month = row['month']\n",
    "    u_priceData.loc[(u_priceData['Year'] == year) & (u_priceData['Month'] == month), 'anuradhapura'] = row['anuradhapura']\n",
    "    u_priceData.loc[(u_priceData['Year'] == year) & (u_priceData['Month'] == month), 'jaffna'] = row['jaffna']\n",
    "    u_priceData.loc[(u_priceData['Year'] == year) & (u_priceData['Month'] == month), 'nuwaraeliya'] = row['nuwaraeliya']"
   ]
  },
  {
   "cell_type": "code",
   "execution_count": null,
   "id": "89f1a20a",
   "metadata": {},
   "outputs": [],
   "source": [
    "df = u_priceData.copy()\n",
    "def preprocess_input(df):\n",
    "    df = df.copy()\n",
    "\n",
    "    # Drop rows with missing values if any\n",
    "    df.dropna(inplace=True)\n",
    "\n",
    "    # Split df into X and y\n",
    "    X = df.drop(\"Price\", axis=1)\n",
    "    Y = df[\"Price\"]\n",
    "\n",
    "    return X, Y\n",
    "X, Y = preprocess_input(df)"
   ]
  },
  {
   "cell_type": "code",
   "execution_count": null,
   "id": "a9dfd341",
   "metadata": {},
   "outputs": [],
   "source": [
    "# Preprocessing pipeline\n",
    "numeric_features = ['Week', 'Month', 'Year',\n",
    "                    #  'anuradhapura', 'jaffna', 'nuwaraeliya'\n",
    "                     ]\n",
    "categorical_features = ['Name', 'Season']\n",
    "\n",
    "numeric_transformer = Pipeline(steps=[\n",
    "    ('num', 'passthrough')])  # No transformation needed for numeric features\n",
    "\n",
    "categorical_transformer = Pipeline(steps=[\n",
    "    ('onehot', OneHotEncoder(handle_unknown='ignore'))])\n",
    "\n",
    "preprocessor = ColumnTransformer(\n",
    "    transformers=[\n",
    "        ('num', numeric_transformer, numeric_features),\n",
    "        ('cat', categorical_transformer, categorical_features)])\n",
    "regression_model = Pipeline(steps=[('preprocessor', preprocessor),\n",
    "                                   ('regressor', RandomForestRegressor())])"
   ]
  },
  {
   "cell_type": "code",
   "execution_count": null,
   "id": "78802ed9",
   "metadata": {},
   "outputs": [],
   "source": [
    "regression_model.fit(X, Y)\n",
    "accuracy = regression_model.score(X, Y)\n",
    "print(\"Accuracy:\", accuracy*100)"
   ]
  },
  {
   "cell_type": "code",
   "execution_count": null,
   "id": "bf3716f7",
   "metadata": {},
   "outputs": [],
   "source": [
    "def get_user_input():\n",
    "    name = input(\"Enter the name of the item: \")\n",
    "    week = int(input(\"Enter the week: \"))\n",
    "    month = int(input(\"Enter the month: \"))\n",
    "    year = int(input(\"Enter the year: \"))\n",
    "    if month in range(3, 5):\n",
    "        season = \"First Inter-monsoon Season\"\n",
    "    elif month in range(5, 10):\n",
    "        season = \"South-West Monsoon Season\"\n",
    "    elif month in range(10, 12):\n",
    "        season = \"Second Inter-monsoon Season\"\n",
    "    else:\n",
    "        season = \"North-East Monsoon Season\"\n",
    "    anuradhapura = float(input(\"Enter the rainfall in Anuradhapura: \"))\n",
    "    jaffna = float(input(\"Enter the rainfall in Jaffna: \"))\n",
    "    nuwaraeliya = float(input(\"Enter the rainfall in Nuwara Eliya: \"))\n",
    "    return {\"Name\": name, 'Week': week, 'Month': month, 'Year': year, 'Season': season, 'anuradhapura': anuradhapura, 'jaffna': jaffna, 'nuwaraeliya': nuwaraeliya}\n"
   ]
  },
  {
   "cell_type": "code",
   "execution_count": null,
   "id": "87c21aac",
   "metadata": {},
   "outputs": [],
   "source": [
    "user_data = get_user_input()\n",
    "user_df = pd.DataFrame([user_data])\n",
    "predicted_price = regression_model.predict(user_df)\n",
    "\n",
    "# Display prediction\n",
    "print(\"Predicted price:\", predicted_price[0])"
   ]
  },
  {
   "cell_type": "code",
   "execution_count": null,
   "id": "1c1620bf",
   "metadata": {},
   "outputs": [],
   "source": [
    "data2 = df.copy()\n",
    "data2.dropna()\n",
    "sns.boxplot(data2[\"Price\"])"
   ]
  },
  {
   "cell_type": "code",
   "execution_count": null,
   "id": "b5ed3570",
   "metadata": {},
   "outputs": [],
   "source": [
    "sns.relplot(data=data2, x=\"Name\", y=\"Price\", hue=\"Season\", kind=\"line\")"
   ]
  },
  {
   "cell_type": "code",
   "execution_count": null,
   "metadata": {},
   "outputs": [],
   "source": [
    "dist = data2[\"Name\"]\n",
    "distset = set(dist)\n",
    "dd = list(distset)\n",
    "dictOfWords = { dd[i] : i for i in range(0, len(dd) ) }\n",
    "data2[\"Name\"] = data2[\"Name\"].map(dictOfWords)\n",
    "\n",
    "dist = (data2[\"Season\"])\n",
    "distset = set(dist)\n",
    "dd = list(distset)\n",
    "dictOfWords = { dd[i] : i for i in range(0, len(dd) ) }\n",
    "data2[\"Season\"] = data2[\"Season\"].map(dictOfWords)\n",
    "\n",
    "plt.title('Correlation Heatmap')\n",
    "dataplot = sns.heatmap(data2.corr(), cmap=\"YlGnBu\", annot=True)\n",
    "\n",
    "plt.show()"
   ]
  },
  {
   "cell_type": "markdown",
   "id": "18dc9926",
   "metadata": {},
   "source": [
    "# Test"
   ]
  },
  {
   "cell_type": "code",
   "execution_count": null,
   "id": "86b1cdec",
   "metadata": {},
   "outputs": [],
   "source": [
    "import numpy as np"
   ]
  },
  {
   "cell_type": "code",
   "execution_count": null,
   "id": "8f06faff",
   "metadata": {},
   "outputs": [],
   "source": [
    "data2 = df.copy()\n",
    "data2 = data2.dropna()"
   ]
  },
  {
   "cell_type": "code",
   "execution_count": null,
   "id": "55df73fc",
   "metadata": {},
   "outputs": [],
   "source": [
    "data2.shape"
   ]
  },
  {
   "cell_type": "code",
   "execution_count": null,
   "id": "f64c7231",
   "metadata": {},
   "outputs": [],
   "source": [
    "data2[\"Price\"]"
   ]
  },
  {
   "cell_type": "code",
   "execution_count": null,
   "id": "30fef125",
   "metadata": {},
   "outputs": [],
   "source": [
    "# IQR\n",
    "Q1 = np.percentile(data2[\"Price\"], 25, interpolation = 'midpoint')\n",
    "Q3 = np.percentile(data2[\"Price\"], 75, interpolation = 'midpoint')\n",
    "IQR = Q3 - Q1"
   ]
  },
  {
   "cell_type": "code",
   "execution_count": null,
   "id": "dc9fc5f6",
   "metadata": {},
   "outputs": [],
   "source": [
    "# Upper bound\n",
    "upper = np.where(data2[\"Price\"] >= (Q3+1.5*IQR))\n",
    "# Lower bound\n",
    "lower = np.where(data2[\"Price\"] <= (Q1-1.5*IQR))\n",
    "print(upper[0], lower[0])"
   ]
  },
  {
   "cell_type": "code",
   "execution_count": null,
   "id": "24025003",
   "metadata": {},
   "outputs": [],
   "source": [
    "data2.reset_index(inplace=True, drop=True)\n",
    "\n",
    "# Removing the outliers\n",
    "data2.drop(upper[0], inplace=True)\n",
    "data2.drop(lower[0], inplace=True)\n",
    "\n",
    "print(\"New Shape: \", data2.shape)"
   ]
  },
  {
   "cell_type": "code",
   "execution_count": null,
   "id": "e88806cb",
   "metadata": {},
   "outputs": [],
   "source": [
    "plt.title(\"Box plot after outlier removal\")\n",
    "sns.boxplot(data2[\"Price\"])"
   ]
  },
  {
   "cell_type": "code",
   "execution_count": null,
   "id": "d54f9906",
   "metadata": {},
   "outputs": [],
   "source": [
    "plt.title('Price Distribution')\n",
    "sns.histplot(data=data2, x=\"Price\", bins=20)"
   ]
  },
  {
   "cell_type": "code",
   "execution_count": null,
   "id": "98c902db",
   "metadata": {},
   "outputs": [],
   "source": [
    "# Line plot of Price over Years\n",
    "sns.relplot(data=data2, x=\"Year\", y=\"Price\", kind=\"line\")"
   ]
  },
  {
   "cell_type": "code",
   "execution_count": null,
   "id": "fa7508f0",
   "metadata": {},
   "outputs": [],
   "source": [
    "def preprocess_input(df):\n",
    "    df = df.copy()\n",
    "\n",
    "    # Drop rows with missing values if any\n",
    "    df.dropna(inplace=True)\n",
    "\n",
    "    # Split df into X and y\n",
    "    X = df.drop(\"Price\", axis=1)\n",
    "    Y = df[\"Price\"]\n",
    "\n",
    "    # Train-test split\n",
    "    X_train, X_test, Y_train, Y_test =  train_test_split(X, Y, test_size=0.3, shuffle=True)\n",
    "\n",
    "    return X_train, X_test, Y_train, Y_test"
   ]
  },
  {
   "cell_type": "code",
   "execution_count": null,
   "id": "fa834324",
   "metadata": {},
   "outputs": [],
   "source": [
    "df = data2.copy()\n",
    "\n",
    "\n",
    "X_train, X_test, Y_train, Y_test = preprocess_input(df)"
   ]
  },
  {
   "cell_type": "code",
   "execution_count": null,
   "id": "3a60b0e2",
   "metadata": {},
   "outputs": [],
   "source": [
    "df[df[\"Name\"] == \"Carrot_UPCVEG_1kg\"][\"Price\"].plot(style='.',figsize=(15, 5), title=\"Price Fluxuation of Carrot in Sri Lanka\")"
   ]
  },
  {
   "cell_type": "code",
   "execution_count": null,
   "id": "d2d3cf26",
   "metadata": {},
   "outputs": [],
   "source": [
    "train = X_train.merge(Y_train, left_index=True, right_index=True)\n",
    "test = X_test.merge(Y_test, left_index=True, right_index=True)\n",
    "fix, ax = plt.subplots(1, 1, figsize=(15, 5))\n",
    "train[train[\"Name\"] == \"Carrot_UPCVEG_1kg\"][\"Price\"].plot(ax=ax, label=\"Train\", style=\".\")\n",
    "test[test[\"Name\"] == \"Carrot_UPCVEG_1kg\"][\"Price\"].plot(ax=ax, label=\"Test\", style=\".\")\n",
    "ax.legend(\"Training set\", \"Test Set\")\n",
    "plt.show()"
   ]
  },
  {
   "cell_type": "code",
   "execution_count": null,
   "id": "ecfd64c7",
   "metadata": {},
   "outputs": [],
   "source": [
    "regression_model = Pipeline(steps=[('preprocessor', preprocessor),\n",
    "                                   ('regressor', XGBRegressor(n_estimators=5000, learning_rate=0.1))])\n",
    "regression_model.fit(X_train, Y_train)"
   ]
  },
  {
   "cell_type": "code",
   "execution_count": null,
   "id": "6857a31f",
   "metadata": {},
   "outputs": [],
   "source": [
    "regression_model = Pipeline(steps=[('preprocessor', preprocessor),\n",
    "                                   ('regressor', RandomForestRegressor(bootstrap=True, criterion='poisson',max_depth=None, max_leaf_nodes=None,n_estimators=250, random_state=None, n_jobs=1, verbose=0))])\n",
    "regression_model.fit(X_train, Y_train)"
   ]
  },
  {
   "cell_type": "code",
   "execution_count": null,
   "id": "1dbb5c9f",
   "metadata": {},
   "outputs": [],
   "source": [
    "regression_model = Pipeline(steps=[('preprocessor', preprocessor),\n",
    "                                      ('regressor', CatBoostRegressor(iterations=5000, depth=10, verbose=100, learning_rate=0.25, loss_function='RMSE'))])\n",
    "regression_model.fit(X_train, Y_train)"
   ]
  },
  {
   "cell_type": "code",
   "execution_count": null,
   "id": "23f3b09b",
   "metadata": {},
   "outputs": [],
   "source": [
    "accuracy = regression_model.score(X_test, Y_test)\n",
    "print(\"Accuracy:\", accuracy)\n",
    "Y_pred = regression_model.predict(X_test)\n",
    "mse = mean_squared_error(Y_test, Y_pred)\n",
    "rmse = np.sqrt(mse)\n",
    "print(\"MSE:\", mse)\n",
    "print(\"RMSE:\", rmse)"
   ]
  },
  {
   "cell_type": "code",
   "execution_count": null,
   "id": "51ad590d",
   "metadata": {},
   "outputs": [],
   "source": [
    "regression_model.fit(X_test, Y_test)\n",
    "accuracy = regression_model.score(X_test, Y_test)\n",
    "print(\"Accuracy:\", accuracy)\n",
    "Y_pred = regression_model.predict(X_test)\n",
    "mse = mean_squared_error(Y_test, Y_pred)\n",
    "rmse = np.sqrt(mse)\n",
    "print(\"MSE:\", mse)\n",
    "print(\"RMSE:\", rmse)"
   ]
  },
  {
   "cell_type": "code",
   "execution_count": null,
   "id": "3f3c5f07",
   "metadata": {},
   "outputs": [],
   "source": [
    "import pickle\n",
    "# Save the model as a pickle file\n",
    "filename = './models/test_model.sav'\n",
    "pickle.dump(regression_model, open(filename, 'wb'))"
   ]
  },
  {
   "cell_type": "code",
   "execution_count": null,
   "id": "d7f4b830",
   "metadata": {},
   "outputs": [],
   "source": [
    "# Take a look at the class/breed distribution\n",
    "ax=pd.value_counts(data2['Name'],ascending=True).plot(kind='barh',fontsize=\"10\",title=\"Veges Distribution\",figsize=(20,30),color=[\"red\",\"green\",\"blue\",\"orange\",\"purple\",\"pink\"])\n",
    "ax.set(xlabel=\"counts\", ylabel=\"Vegetables\")\n",
    "ax.xaxis.label.set_size(10)\n",
    "ax.yaxis.label.set_size(10)\n",
    "ax.title.set_size(10)\n",
    "plt.show()"
   ]
  },
  {
   "cell_type": "code",
   "execution_count": null,
   "id": "486feb21",
   "metadata": {},
   "outputs": [],
   "source": [
    "data2.head()"
   ]
  },
  {
   "cell_type": "code",
   "execution_count": null,
   "id": "c65dd103",
   "metadata": {},
   "outputs": [],
   "source": [
    "test2 = test.copy()\n",
    "test2[\"prediction\"] = regression_model.predict(X_test)\n",
    "df2 = test2.copy()\n",
    "ax = df2[df2[\"Name\"] == \"Potatoes_Local_POTATOES_1Kg\"][\"Price\"].plot(style=\".\", figsize=(15, 5), title=\"Price Fluxuation of Carrot in Sri Lanka\")\n",
    "df2[df2[\"Name\"] == \"Potatoes_Local_POTATOES_1Kg\"][\"prediction\"].plot(ax=ax, style=\".\")\n",
    "ax.legend([\"Target\", \"Prediction\"])"
   ]
  },
  {
   "cell_type": "code",
   "execution_count": null,
   "id": "9f94d62c",
   "metadata": {},
   "outputs": [],
   "source": [
    "test2 = test.copy()\n",
    "test2[\"prediction\"] = regression_model.predict(X_test)\n",
    "df2 = test2.copy()\n",
    "ax = df2[df2[\"Name\"] == \"Potatoes_Local_POTATOES_1Kg\"][\"Price\"].plot(style=\".\", figsize=(15, 5), title=\"Price Fluxuation of Carrot in Sri Lanka\")\n",
    "df2[df2[\"Name\"] == \"Potatoes_Local_POTATOES_1Kg\"][\"prediction\"].plot(ax=ax, style=\".\")\n",
    "ax.legend([\"Target\", \"Prediction\"])"
   ]
  },
  {
   "cell_type": "code",
   "execution_count": null,
   "id": "75a22a99",
   "metadata": {},
   "outputs": [],
   "source": [
    "test2 = test.copy()\n",
    "test2[\"prediction\"] = regression_model.predict(X_test)\n",
    "df2 = test2.copy()\n",
    "ax = df2[df2[\"Name\"] == \"Potatoes_Local_POTATOES_1Kg\"][\"Price\"].plot(style=\".\", figsize=(15, 5), title=\"Price Fluxuation of Carrot in Sri Lanka\")\n",
    "df2[df2[\"Name\"] == \"Potatoes_Local_POTATOES_1Kg\"][\"prediction\"].plot(ax=ax, style=\".\")\n",
    "ax.legend([\"Target\", \"Prediction\"])"
   ]
  }
 ],
 "metadata": {
  "kernelspec": {
   "display_name": "Python 3 (ipykernel)",
   "language": "python",
   "name": "python3"
  },
  "language_info": {
   "codemirror_mode": {
    "name": "ipython",
    "version": 3
   },
   "file_extension": ".py",
   "mimetype": "text/x-python",
   "name": "python",
   "nbconvert_exporter": "python",
   "pygments_lexer": "ipython3",
   "version": "3.12.0"
  }
 },
 "nbformat": 4,
 "nbformat_minor": 5
}
