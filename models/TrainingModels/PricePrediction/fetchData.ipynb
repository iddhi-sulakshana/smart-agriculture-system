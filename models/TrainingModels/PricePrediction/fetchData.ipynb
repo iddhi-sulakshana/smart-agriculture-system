{
 "cells": [
  {
   "cell_type": "markdown",
   "metadata": {},
   "source": [
    "# Vegetable Prices"
   ]
  },
  {
   "cell_type": "code",
   "execution_count": null,
   "metadata": {},
   "outputs": [],
   "source": [
    "import requests\n",
    "import json\n",
    "from bs4 import BeautifulSoup"
   ]
  },
  {
   "cell_type": "code",
   "execution_count": null,
   "metadata": {},
   "outputs": [],
   "source": [
    "url = \"http://www.statistics.gov.lk/DashBoard/Prices/Prices_Data.php\"\n",
    "\n",
    "# Send a GET request to the URL\n",
    "response = requests.get(url)"
   ]
  },
  {
   "cell_type": "code",
   "execution_count": null,
   "metadata": {},
   "outputs": [],
   "source": [
    "name_list = [\"productList.json\", \"pricesList.json\", \"unavailability.json\"]"
   ]
  },
  {
   "cell_type": "code",
   "execution_count": null,
   "metadata": {},
   "outputs": [],
   "source": [
    "if response.status_code == 200:\n",
    "    # Extract the data from the response (assuming it's in JSON format)\n",
    "    response_text = response.content.decode('utf-8-sig')\n",
    "\n",
    "    response_text_filtered = response_text.split(\"// \")\n",
    "    modified_data = {}\n",
    "    for i in range(len(response_text_filtered)):\n",
    "        if(i == 0):\n",
    "            continue\n",
    "        modified_data[i] = '\\n'.join(line for line in response_text_filtered[i].split('\\n') if not line.startswith(\"Data for\"))\n",
    "        modified_data[i] = '\\n'.join(line for line in modified_data[i].split('\\n') if not line.startswith(\"var\"))\n",
    "        modified_data[i] = '\\n'.join(line for line in modified_data[i].split('\\n') if not line.startswith(\"]\"))\n",
    "        # wrap modified data with square brackets\n",
    "        modified_data[i] = \"[\" + modified_data[i] + \"]\"\n",
    "        # remove empty values\n",
    "        modified_data[i] = modified_data[i].replace(\"''\", \"null\") \n",
    "        with open('./data/unprocessed/'+name_list[i-1], 'w') as outfile:\n",
    "            outfile.write(modified_data[i])"
   ]
  },
  {
   "cell_type": "markdown",
   "metadata": {},
   "source": [
    "# Fuel Prices"
   ]
  },
  {
   "cell_type": "code",
   "execution_count": null,
   "metadata": {},
   "outputs": [],
   "source": [
    "response = requests.get(\"https://ceypetco.gov.lk/wp-json/wp/v2/pages/248\")"
   ]
  },
  {
   "cell_type": "code",
   "execution_count": null,
   "metadata": {},
   "outputs": [],
   "source": [
    "data = response.json()\n",
    "data = data['content']['rendered']\n",
    "soup = BeautifulSoup(data, 'html.parser')\n",
    "target_table = soup.find('table', class_=\"ea-advanced-data-table ea-advanced-data-table-static ea-advanced-data-table-9fdc03b ea-advanced-data-table-sortable ea-advanced-data-table-paginated ea-advanced-data-table-searchable\")\n",
    "price_list = []\n",
    "rows = target_table.find_all('tr')\n",
    "headers = [header.get_text().strip() for header in rows[0].find_all('th')]"
   ]
  },
  {
   "cell_type": "code",
   "execution_count": null,
   "metadata": {},
   "outputs": [],
   "source": [
    "for row in rows[1:]:\n",
    "    cells = row.find_all('td')\n",
    "    if cells:\n",
    "        price_data = {\"Date\": cells[0].get_text().strip()}\n",
    "        for i, cell in enumerate(cells[1:], 1):\n",
    "            value = cell.get_text().strip()\n",
    "            parts = value.split(\".\")\n",
    "            if len(parts) > 2:\n",
    "                value = parts[0] + '.' + ''.join(parts[1:])\n",
    "            value.replace(',', '')\n",
    "            try:\n",
    "                price_data[headers[i]] = float(value)\n",
    "            except ValueError:\n",
    "                price_data[headers[i]] = None\n",
    "        price_list.append(price_data)"
   ]
  },
  {
   "cell_type": "code",
   "execution_count": null,
   "metadata": {},
   "outputs": [],
   "source": [
    "with open('./data/unprocessed/ceypetcoPrices.json', 'w') as f:\n",
    "    json.dump(price_list, f, indent=4)"
   ]
  }
 ],
 "metadata": {
  "kernelspec": {
   "display_name": "Python 3",
   "language": "python",
   "name": "python3"
  },
  "language_info": {
   "codemirror_mode": {
    "name": "ipython",
    "version": 3
   },
   "file_extension": ".py",
   "mimetype": "text/x-python",
   "name": "python",
   "nbconvert_exporter": "python",
   "pygments_lexer": "ipython3",
   "version": "3.12.0"
  }
 },
 "nbformat": 4,
 "nbformat_minor": 2
}
