{
 "cells": [
  {
   "cell_type": "code",
   "execution_count": 1,
   "id": "e4735799",
   "metadata": {},
   "outputs": [],
   "source": [
    "import pandas as pd\n",
    "\n",
    "from sklearn.model_selection import train_test_split\n",
    "\n",
    "from sklearn.linear_model import LinearRegression, Ridge, Lasso\n",
    "from sklearn.neighbors import KNeighborsRegressor\n",
    "from sklearn.neural_network import MLPRegressor\n",
    "from sklearn.svm import LinearSVR, SVR\n",
    "from sklearn.tree import DecisionTreeRegressor\n",
    "from sklearn.ensemble import RandomForestRegressor, GradientBoostingRegressor\n",
    "from sklearn.metrics import accuracy_score, mean_squared_error \n",
    "from xgboost import XGBRegressor\n",
    "from lightgbm import LGBMRegressor\n",
    "from catboost import CatBoostRegressor\n",
    "from sklearn.preprocessing import OneHotEncoder\n",
    "from sklearn.compose import ColumnTransformer\n",
    "from sklearn.pipeline import Pipeline\n",
    "\n",
    "import warnings\n",
    "warnings.filterwarnings(action='ignore')"
   ]
  },
  {
   "cell_type": "code",
   "execution_count": 2,
   "id": "6b57b8c1",
   "metadata": {},
   "outputs": [],
   "source": [
    "df = pd.read_csv(\"./data/processed/pricesList.csv\")"
   ]
  },
  {
   "cell_type": "code",
   "execution_count": 3,
   "id": "3e7ee64b",
   "metadata": {},
   "outputs": [
    {
     "name": "stdout",
     "output_type": "stream",
     "text": [
      "<class 'pandas.core.frame.DataFrame'>\n",
      "RangeIndex: 1700 entries, 0 to 1699\n",
      "Data columns (total 5 columns):\n",
      " #   Column  Non-Null Count  Dtype  \n",
      "---  ------  --------------  -----  \n",
      " 0   Name    1700 non-null   object \n",
      " 1   Price   1665 non-null   float64\n",
      " 2   Week    1700 non-null   int64  \n",
      " 3   Month   1700 non-null   int64  \n",
      " 4   Year    1700 non-null   int64  \n",
      "dtypes: float64(1), int64(3), object(1)\n",
      "memory usage: 66.5+ KB\n"
     ]
    }
   ],
   "source": [
    "df.info()"
   ]
  },
  {
   "cell_type": "code",
   "execution_count": 4,
   "id": "f039a972",
   "metadata": {},
   "outputs": [
    {
     "data": {
      "text/plain": [
       "{'Name': array(['Leeks  1kg', 'Local Potatoes 1Kg', 'Imported Potatoes  1Kg',\n",
       "        'Carrot  1kg', 'Tomatoe No1.  1kg'], dtype=object)}"
      ]
     },
     "execution_count": 4,
     "metadata": {},
     "output_type": "execute_result"
    }
   ],
   "source": [
    "{column: df[column].unique() for column in df.select_dtypes(\"object\").columns}"
   ]
  },
  {
   "cell_type": "code",
   "execution_count": 5,
   "id": "89f1a20a",
   "metadata": {},
   "outputs": [],
   "source": [
    "def preprocess_input(df):\n",
    "    df = df.copy()\n",
    "\n",
    "    # Drop rows with missing values if any\n",
    "    df.dropna(inplace=True)\n",
    "\n",
    "    # Split df into X and y\n",
    "    X = df.drop(\"Price\", axis=1)\n",
    "    Y = df[\"Price\"]\n",
    "\n",
    "    # Train-test split\n",
    "    X_train, X_test, Y_train, Y_test =  train_test_split(X, Y, test_size=0.2, random_state=42)\n",
    "\n",
    "    return X_train, X_test, Y_train, Y_test"
   ]
  },
  {
   "cell_type": "code",
   "execution_count": 6,
   "id": "74523bf4",
   "metadata": {},
   "outputs": [],
   "source": [
    "X_train, X_test, Y_train, Y_test = preprocess_input(df)"
   ]
  },
  {
   "cell_type": "markdown",
   "id": "208ba538",
   "metadata": {},
   "source": [
    "# Train"
   ]
  },
  {
   "cell_type": "code",
   "execution_count": 7,
   "id": "bf3716f7",
   "metadata": {},
   "outputs": [],
   "source": [
    "def get_user_input():\n",
    "    name = input(\"Enter the name of the item: \")\n",
    "    week = int(input(\"Enter the week: \"))\n",
    "    month = int(input(\"Enter the month: \"))\n",
    "    year = int(input(\"Enter the year: \"))\n",
    "    return {'Name': name, 'Week': week, 'Month': month, 'Year': year}\n"
   ]
  },
  {
   "cell_type": "code",
   "execution_count": 8,
   "id": "78802ed9",
   "metadata": {},
   "outputs": [
    {
     "name": "stdout",
     "output_type": "stream",
     "text": [
      "Accuracy: 0.9133126104874308\n",
      "Mean Squared Error: 1149.309971917808\n"
     ]
    }
   ],
   "source": [
    "# Preprocessing pipeline\n",
    "numeric_features = ['Week', 'Month', 'Year']\n",
    "categorical_features = ['Name']\n",
    "\n",
    "numeric_transformer = Pipeline(steps=[\n",
    "    ('num', 'passthrough')])  # No transformation needed for numeric features\n",
    "\n",
    "categorical_transformer = Pipeline(steps=[\n",
    "    ('onehot', OneHotEncoder(handle_unknown='ignore'))])\n",
    "\n",
    "preprocessor = ColumnTransformer(\n",
    "    transformers=[\n",
    "        ('num', numeric_transformer, numeric_features),\n",
    "        ('cat', categorical_transformer, categorical_features)])\n",
    "\n",
    "regression_model = Pipeline(steps=[('preprocessor', preprocessor),\n",
    "                                   ('regressor', RandomForestRegressor())])\n",
    "\n",
    "\n",
    "\n",
    "\n",
    "regression_model.fit(X_train, Y_train)\n",
    "y_pred = regression_model.predict(X_test)\n",
    "accuracy = regression_model.score(X_test, Y_test)\n",
    "mse = mean_squared_error(Y_test, y_pred)  \n",
    "print(\"Accuracy:\", accuracy)\n",
    "print(\"Mean Squared Error:\", mse)\n"
   ]
  },
  {
   "cell_type": "code",
   "execution_count": 9,
   "id": "87c21aac",
   "metadata": {},
   "outputs": [
    {
     "name": "stdout",
     "output_type": "stream",
     "text": [
      "Predicted price: 133.70129999999995\n"
     ]
    }
   ],
   "source": [
    "user_data = get_user_input()\n",
    "user_df = pd.DataFrame([user_data])\n",
    "predicted_price = regression_model.predict(user_df)\n",
    "\n",
    "# Display prediction\n",
    "print(\"Predicted price:\", predicted_price[0])\n"
   ]
  },
  {
   "cell_type": "code",
   "execution_count": null,
   "metadata": {},
   "outputs": [],
   "source": [
    "models = {\n",
    "    \"Linear Regression\": LinearRegression(),\n",
    "    \"Ridge\": Ridge(),\n",
    "    \"Lasso\": Lasso(),\n",
    "    \"K Nearest Neighbors\": KNeighborsRegressor(),\n",
    "    \"Support Vector Machine\": SVR(),\n",
    "    \"Linear SVR\": LinearSVR(),\n",
    "    \"Decision Tree\": DecisionTreeRegressor(),\n",
    "    \"Random Forest\": RandomForestRegressor(),\n",
    "    \"Gradient Boosting\": GradientBoostingRegressor(),\n",
    "    \"XGBoost\": XGBRegressor(),\n",
    "    \"LightGBM\": LGBMRegressor(),\n",
    "    \"CatBoost\": CatBoostRegressor(verbose=0)\n",
    "}\n",
    "model_scores = {name: [] for name in models.keys()}"
   ]
  },
  {
   "cell_type": "code",
   "execution_count": null,
   "id": "fe317eba",
   "metadata": {},
   "outputs": [],
   "source": [
    "for _ in range(10):\n",
    "    X_train, X_test, Y_train, Y_test = preprocess_input(df)\n",
    "    models = {\n",
    "        \"Linear Regression\": LinearRegression(),\n",
    "        \"Ridge\": Ridge(),\n",
    "        \"Lasso\": Lasso(),\n",
    "        \"K Nearest Neighbors\": KNeighborsRegressor(),\n",
    "        \"Support Vector Machine\": SVR(),\n",
    "        \"Linear SVR\": LinearSVR(),\n",
    "        \"Decision Tree\": DecisionTreeRegressor(),\n",
    "        \"Random Forest\": RandomForestRegressor(),\n",
    "        \"Gradient Boosting\": GradientBoostingRegressor(),\n",
    "        \"XGBoost\": XGBRegressor(),\n",
    "        \"LightGBM\": LGBMRegressor(),\n",
    "        \"CatBoost\": CatBoostRegressor(verbose=0)\n",
    "    }\n",
    "    for name, model in models.items():\n",
    "        model.fit(X_train, Y_train)\n",
    "        score = model.score(X_test, Y_test)\n",
    "        model_scores[name].append(score)\n",
    "\n"
   ]
  },
  {
   "cell_type": "code",
   "execution_count": null,
   "id": "b09235ae",
   "metadata": {},
   "outputs": [],
   "source": [
    "average_scores = {name: sum(scores) / len(scores) for name, scores in model_scores.items()}\n",
    "# Print average scores\n",
    "for name, avg_score in average_scores.items():\n",
    "    print(f\"{name} Average R^2: {avg_score:.5f}\")"
   ]
  },
  {
   "cell_type": "code",
   "execution_count": null,
   "id": "5df1705e",
   "metadata": {},
   "outputs": [],
   "source": [
    "for name, model in models.items():\n",
    "    model.fit(X_train, Y_train)\n",
    "    print(name + \" trained.\")"
   ]
  },
  {
   "cell_type": "code",
   "execution_count": null,
   "id": "1e302685",
   "metadata": {},
   "outputs": [],
   "source": [
    "for name, model in models.items():\n",
    "    print(name + \" R^2: {:.5f}\".format(model.score(X_test, Y_test)))"
   ]
  },
  {
   "cell_type": "code",
   "execution_count": null,
   "id": "e16e563e",
   "metadata": {},
   "outputs": [],
   "source": [
    "models[\"CatBoost\"].predict([3, 7, 1, 1,-1,-1,-1,-1])"
   ]
  }
 ],
 "metadata": {
  "kernelspec": {
   "display_name": "Python 3 (ipykernel)",
   "language": "python",
   "name": "python3"
  },
  "language_info": {
   "codemirror_mode": {
    "name": "ipython",
    "version": 3
   },
   "file_extension": ".py",
   "mimetype": "text/x-python",
   "name": "python",
   "nbconvert_exporter": "python",
   "pygments_lexer": "ipython3",
   "version": "3.10.12"
  }
 },
 "nbformat": 4,
 "nbformat_minor": 5
}
