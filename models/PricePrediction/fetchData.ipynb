{
 "cells": [
  {
   "cell_type": "code",
   "execution_count": 7,
   "metadata": {},
   "outputs": [],
   "source": [
    "import requests\n",
    "import json\n",
    "import pandas as pd\n",
    "from io import StringIO"
   ]
  },
  {
   "cell_type": "code",
   "execution_count": 2,
   "metadata": {},
   "outputs": [],
   "source": [
    "url = \"http://www.statistics.gov.lk/DashBoard/Prices/Prices_Data.php\"\n",
    "\n",
    "# Send a GET request to the URL\n",
    "response = requests.get(url)"
   ]
  },
  {
   "cell_type": "code",
   "execution_count": 26,
   "metadata": {},
   "outputs": [],
   "source": [
    "name_list = [\"productList.json\", \"pricesList.json\", \"unavailability.json\"]"
   ]
  },
  {
   "cell_type": "code",
   "execution_count": 27,
   "metadata": {},
   "outputs": [],
   "source": [
    "if response.status_code == 200:\n",
    "    # Extract the data from the response (assuming it's in JSON format)\n",
    "    response_text = response.content.decode('utf-8-sig')\n",
    "\n",
    "    response_text_filtered = response_text.split(\"// \")\n",
    "    modified_data = {}\n",
    "    for i in range(len(response_text_filtered)):\n",
    "        if(i == 0):\n",
    "            continue\n",
    "        modified_data[i] = '\\n'.join(line for line in response_text_filtered[i].split('\\n') if not line.startswith(\"Data for\"))\n",
    "        modified_data[i] = '\\n'.join(line for line in modified_data[i].split('\\n') if not line.startswith(\"var\"))\n",
    "        modified_data[i] = '\\n'.join(line for line in modified_data[i].split('\\n') if not line.startswith(\"]\"))\n",
    "        # # wrap modified data with square brackets\n",
    "        modified_data[i] = \"[\" + modified_data[i] + \"]\"\n",
    "\n",
    "        with open('./data/unprocessed/'+name_list[i-1], 'w') as outfile:\n",
    "            outfile.write(modified_data[i])\n",
    "\n",
    "\n"
   ]
  }
 ],
 "metadata": {
  "kernelspec": {
   "display_name": "Python 3",
   "language": "python",
   "name": "python3"
  },
  "language_info": {
   "codemirror_mode": {
    "name": "ipython",
    "version": 3
   },
   "file_extension": ".py",
   "mimetype": "text/x-python",
   "name": "python",
   "nbconvert_exporter": "python",
   "pygments_lexer": "ipython3",
   "version": "3.10.12"
  }
 },
 "nbformat": 4,
 "nbformat_minor": 2
}
