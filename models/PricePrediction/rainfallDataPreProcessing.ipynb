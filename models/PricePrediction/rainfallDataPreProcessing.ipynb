{
 "cells": [
  {
   "cell_type": "code",
   "execution_count": 1,
   "metadata": {},
   "outputs": [],
   "source": [
    "import pandas as pd"
   ]
  },
  {
   "cell_type": "code",
   "execution_count": 2,
   "metadata": {},
   "outputs": [],
   "source": [
    "# Read the Excel file\n",
    "data = pd.read_excel('./data/unprocessed/rainfallData.xls')"
   ]
  },
  {
   "cell_type": "code",
   "execution_count": 3,
   "metadata": {},
   "outputs": [],
   "source": [
    "data.columns = map(str.lower, data.columns)"
   ]
  },
  {
   "cell_type": "code",
   "execution_count": 4,
   "metadata": {},
   "outputs": [
    {
     "name": "stdout",
     "output_type": "stream",
     "text": [
      "<class 'pandas.core.frame.DataFrame'>\n",
      "Index: 18 entries, 0 to 17\n",
      "Data columns (total 14 columns):\n",
      " #   Column        Non-Null Count  Dtype  \n",
      "---  ------        --------------  -----  \n",
      " 0   station_name  18 non-null     object \n",
      " 1   yyyy          18 non-null     object \n",
      " 2   jan           18 non-null     float64\n",
      " 3   feb           18 non-null     float64\n",
      " 4   mar           18 non-null     float64\n",
      " 5   apr           18 non-null     float64\n",
      " 6   may           18 non-null     float64\n",
      " 7   jun           18 non-null     float64\n",
      " 8   jul           18 non-null     float64\n",
      " 9   aug           18 non-null     float64\n",
      " 10  sep           18 non-null     float64\n",
      " 11  oct           18 non-null     float64\n",
      " 12  nov           18 non-null     float64\n",
      " 13  dec           18 non-null     float64\n",
      "dtypes: float64(12), object(2)\n",
      "memory usage: 2.1+ KB\n"
     ]
    }
   ],
   "source": [
    "# drop if id column is nan\n",
    "data = data.dropna(subset=['id'])\n",
    "# drop unwanted columns\n",
    "data = data.drop(columns=['id', 'longitude', 'latitude', 'elevation', 'code', 'abbreviation'])\n",
    "data.info()"
   ]
  },
  {
   "cell_type": "code",
   "execution_count": 5,
   "metadata": {},
   "outputs": [],
   "source": [
    "def month_to_column(month):\n",
    "    months = ['jan', 'feb', 'mar', 'apr', 'may', 'jun', 'jul', 'aug', 'sep', 'oct', 'nov', 'dec']\n",
    "    return months[month - 1]"
   ]
  },
  {
   "cell_type": "code",
   "execution_count": 6,
   "metadata": {},
   "outputs": [
    {
     "name": "stderr",
     "output_type": "stream",
     "text": [
      "/tmp/ipykernel_13423/3068540172.py:22: FutureWarning: The behavior of DataFrame concatenation with empty or all-NA entries is deprecated. In a future version, this will no longer exclude empty or all-NA columns when determining the result dtypes. To retain the old behavior, exclude the relevant entries before the concat operation.\n",
      "  reshaped_data = pd.concat([reshaped_data, pd.DataFrame({'anuradhapura': [anuradhapura[month-1]], 'jaffna': [jaffna[month-1]], 'nuwaraeliya': [nuwaraeliya[month-1]], 'year': [year], 'month': [month]})])\n"
     ]
    }
   ],
   "source": [
    "# Create an empty DataFrame to store the reshaped data\n",
    "reshaped_data = pd.DataFrame(columns=['anuradhapura', 'jaffna', 'nuwaraeliya', 'year', 'month'])\n",
    "\n",
    "# Iterate over years from 2017 to 2022\n",
    "for year in range(2017, 2023):\n",
    "    rows = data[data['yyyy'] == year].iterrows()\n",
    "    # temp variable to store the all the stations month data\n",
    "    anuradhapura = []\n",
    "    jaffna = []\n",
    "    nuwaraeliya = []\n",
    "    # iterate over the rows and append month data\n",
    "    for index, row in rows:\n",
    "        for month in range(1, 13):\n",
    "            if row['station_name'] == 'ANURADHAPURA':\n",
    "                anuradhapura.append(row[month_to_column(month)])\n",
    "            elif row['station_name'] == 'JAFFNA':\n",
    "                jaffna.append(row[month_to_column(month)])\n",
    "            elif row['station_name'] == 'NUWARA ELIYA':\n",
    "                nuwaraeliya.append(row[month_to_column(month)])\n",
    "    # iterate over the months and append the data to the reshaped DataFrame\n",
    "    for month in range(1, 13):\n",
    "        reshaped_data = pd.concat([reshaped_data, pd.DataFrame({'anuradhapura': [anuradhapura[month-1]], 'jaffna': [jaffna[month-1]], 'nuwaraeliya': [nuwaraeliya[month-1]], 'year': [year], 'month': [month]})])"
   ]
  },
  {
   "cell_type": "code",
   "execution_count": 7,
   "metadata": {},
   "outputs": [
    {
     "name": "stdout",
     "output_type": "stream",
     "text": [
      "<class 'pandas.core.frame.DataFrame'>\n",
      "Index: 72 entries, 0 to 0\n",
      "Data columns (total 5 columns):\n",
      " #   Column        Non-Null Count  Dtype  \n",
      "---  ------        --------------  -----  \n",
      " 0   anuradhapura  72 non-null     float64\n",
      " 1   jaffna        72 non-null     float64\n",
      " 2   nuwaraeliya   72 non-null     float64\n",
      " 3   year          72 non-null     object \n",
      " 4   month         72 non-null     object \n",
      "dtypes: float64(3), object(2)\n",
      "memory usage: 3.4+ KB\n"
     ]
    }
   ],
   "source": [
    "reshaped_data.info()"
   ]
  },
  {
   "cell_type": "code",
   "execution_count": 8,
   "metadata": {},
   "outputs": [],
   "source": [
    "reshaped_data.to_csv('./data/processed/rainfallData.csv', index=False)"
   ]
  }
 ],
 "metadata": {
  "kernelspec": {
   "display_name": "Python 3",
   "language": "python",
   "name": "python3"
  },
  "language_info": {
   "codemirror_mode": {
    "name": "ipython",
    "version": 3
   },
   "file_extension": ".py",
   "mimetype": "text/x-python",
   "name": "python",
   "nbconvert_exporter": "python",
   "pygments_lexer": "ipython3",
   "version": "3.10.12"
  }
 },
 "nbformat": 4,
 "nbformat_minor": 2
}
