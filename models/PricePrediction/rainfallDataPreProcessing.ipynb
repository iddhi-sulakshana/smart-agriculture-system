{
 "cells": [
  {
   "cell_type": "code",
   "execution_count": null,
   "metadata": {},
   "outputs": [],
   "source": [
    "import pandas as pd"
   ]
  },
  {
   "cell_type": "code",
   "execution_count": null,
   "metadata": {},
   "outputs": [],
   "source": [
    "# Read the Excel file\n",
    "data = pd.read_excel('./data/unprocessed/rainfallData.xls')"
   ]
  },
  {
   "cell_type": "code",
   "execution_count": null,
   "metadata": {},
   "outputs": [],
   "source": [
    "data.columns = map(str.lower, data.columns)"
   ]
  },
  {
   "cell_type": "code",
   "execution_count": null,
   "metadata": {},
   "outputs": [],
   "source": [
    "# drop if id column is nan\n",
    "data = data.dropna(subset=['id'])\n",
    "# drop unwanted columns\n",
    "data = data.drop(columns=['id', 'longitude', 'latitude', 'elevation', 'code', 'abbreviation'])\n",
    "data.info()"
   ]
  },
  {
   "cell_type": "code",
   "execution_count": null,
   "metadata": {},
   "outputs": [],
   "source": [
    "def month_to_column(month):\n",
    "    months = ['jan', 'feb', 'mar', 'apr', 'may', 'jun', 'jul', 'aug', 'sep', 'oct', 'nov', 'dec']\n",
    "    return months[month - 1]"
   ]
  },
  {
   "cell_type": "code",
   "execution_count": null,
   "metadata": {},
   "outputs": [],
   "source": [
    "# Create an empty DataFrame to store the reshaped data\n",
    "reshaped_data = pd.DataFrame(columns=['anuradhapura', 'jaffna', 'nuwaraeliya', 'year', 'month'])\n",
    "\n",
    "# Iterate over years from 2017 to 2022\n",
    "for year in range(2017, 2023):\n",
    "    rows = data[data['yyyy'] == year].iterrows()\n",
    "    # temp variable to store the all the stations month data\n",
    "    anuradhapura = []\n",
    "    jaffna = []\n",
    "    nuwaraeliya = []\n",
    "    # iterate over the rows and append month data\n",
    "    for index, row in rows:\n",
    "        for month in range(1, 13):\n",
    "            if row['station_name'] == 'ANURADHAPURA':\n",
    "                anuradhapura.append(row[month_to_column(month)])\n",
    "            elif row['station_name'] == 'JAFFNA':\n",
    "                jaffna.append(row[month_to_column(month)])\n",
    "            elif row['station_name'] == 'NUWARA ELIYA':\n",
    "                nuwaraeliya.append(row[month_to_column(month)])\n",
    "    # iterate over the months and append the data to the reshaped DataFrame\n",
    "    for month in range(1, 13):\n",
    "        reshaped_data = pd.concat([reshaped_data, pd.DataFrame({'anuradhapura': [anuradhapura[month-1]], 'jaffna': [jaffna[month-1]], 'nuwaraeliya': [nuwaraeliya[month-1]], 'year': [year], 'month': [month]})])"
   ]
  },
  {
   "cell_type": "code",
   "execution_count": null,
   "metadata": {},
   "outputs": [],
   "source": [
    "reshaped_data.info()"
   ]
  },
  {
   "cell_type": "code",
   "execution_count": null,
   "metadata": {},
   "outputs": [],
   "source": [
    "reshaped_data.to_csv('./data/processed/rainfallData.csv', index=False)"
   ]
  }
 ],
 "metadata": {
  "kernelspec": {
   "display_name": "Python 3",
   "language": "python",
   "name": "python3"
  },
  "language_info": {
   "codemirror_mode": {
    "name": "ipython",
    "version": 3
   },
   "file_extension": ".py",
   "mimetype": "text/x-python",
   "name": "python",
   "nbconvert_exporter": "python",
   "pygments_lexer": "ipython3",
   "version": "3.10.12"
  }
 },
 "nbformat": 4,
 "nbformat_minor": 2
}
