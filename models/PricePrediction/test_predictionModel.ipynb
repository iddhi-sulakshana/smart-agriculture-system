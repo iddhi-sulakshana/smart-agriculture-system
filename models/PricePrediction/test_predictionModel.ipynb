{
 "cells": [
  {
   "cell_type": "code",
   "execution_count": null,
   "id": "e4735799",
   "metadata": {},
   "outputs": [],
   "source": [
    "import pandas as pd\n",
    "\n",
    "from sklearn.model_selection import train_test_split\n",
    "from xgboost import XGBRegressor\n",
    "from sklearn.tree import DecisionTreeRegressor\n",
    "from catboost import CatBoostRegressor\n",
    "from sklearn.ensemble import RandomForestRegressor\n",
    "from sklearn.metrics import  mean_squared_error \n",
    "from sklearn.preprocessing import OneHotEncoder\n",
    "from sklearn.compose import ColumnTransformer\n",
    "from sklearn.pipeline import Pipeline\n",
    "\n",
    "import warnings\n",
    "warnings.filterwarnings(action='ignore')"
   ]
  },
  {
   "cell_type": "code",
   "execution_count": null,
   "id": "6b57b8c1",
   "metadata": {},
   "outputs": [],
   "source": [
    "df = pd.read_csv(\"./data/processed/pricesList.csv\")"
   ]
  },
  {
   "cell_type": "code",
   "execution_count": null,
   "id": "3e7ee64b",
   "metadata": {},
   "outputs": [],
   "source": [
    "df.info()"
   ]
  },
  {
   "cell_type": "code",
   "execution_count": null,
   "id": "f039a972",
   "metadata": {},
   "outputs": [],
   "source": [
    "{column: df[column].unique() for column in df.select_dtypes(\"object\").columns}"
   ]
  },
  {
   "cell_type": "code",
   "execution_count": null,
   "id": "89f1a20a",
   "metadata": {},
   "outputs": [],
   "source": [
    "def preprocess_input(df):\n",
    "    df = df.copy()\n",
    "\n",
    "    # Drop rows with missing values if any\n",
    "    df.dropna(inplace=True)\n",
    "\n",
    "    # Split df into X and y\n",
    "    X = df.drop(\"Price\", axis=1)\n",
    "    Y = df[\"Price\"]\n",
    "\n",
    "    # Train-test split\n",
    "    X_train, X_test, Y_train, Y_test =  train_test_split(X, Y, test_size=0.1, shuffle=True)\n",
    "\n",
    "    return X_train, X_test, Y_train, Y_test"
   ]
  },
  {
   "cell_type": "code",
   "execution_count": null,
   "id": "74523bf4",
   "metadata": {},
   "outputs": [],
   "source": [
    "X_train, X_test, Y_train, Y_test = preprocess_input(df)"
   ]
  },
  {
   "cell_type": "markdown",
   "id": "208ba538",
   "metadata": {},
   "source": [
    "# Train"
   ]
  },
  {
   "cell_type": "code",
   "execution_count": null,
   "id": "bf3716f7",
   "metadata": {},
   "outputs": [],
   "source": [
    "def get_user_input():\n",
    "    # name = input(\"Enter the name of the item: \")\n",
    "    week = int(input(\"Enter the week: \"))\n",
    "    month = int(input(\"Enter the month: \"))\n",
    "    year = int(input(\"Enter the year: \"))\n",
    "    if month in range(3, 5):\n",
    "        season = \"First Inter-monsoon Season\"\n",
    "    elif month in range(5, 10):\n",
    "        season = \"South-West Monsoon Season\"\n",
    "    elif month in range(10, 12):\n",
    "        season = \"Second Inter-monsoon Season\"\n",
    "    else:\n",
    "        season = \"North-East Monsoon Season\"\n",
    "    return { 'Week': week, 'Month': month, 'Year': year, 'Season': season}\n"
   ]
  },
  {
   "cell_type": "code",
   "execution_count": null,
   "id": "a9dfd341",
   "metadata": {},
   "outputs": [],
   "source": [
    "# Preprocessing pipeline\n",
    "numeric_features = ['Week', 'Month', 'Year']\n",
    "categorical_features = ['Season']\n",
    "\n",
    "numeric_transformer = Pipeline(steps=[\n",
    "    ('num', 'passthrough')])  # No transformation needed for numeric features\n",
    "\n",
    "categorical_transformer = Pipeline(steps=[\n",
    "    ('onehot', OneHotEncoder(handle_unknown='ignore'))])\n",
    "\n",
    "preprocessor = ColumnTransformer(\n",
    "    transformers=[\n",
    "        ('num', numeric_transformer, numeric_features),\n",
    "        ('cat', categorical_transformer, categorical_features)])\n",
    "regression_model = Pipeline(steps=[('preprocessor', preprocessor),\n",
    "                                   ('regressor', RandomForestRegressor())])"
   ]
  },
  {
   "cell_type": "code",
   "execution_count": null,
   "id": "78802ed9",
   "metadata": {},
   "outputs": [],
   "source": [
    "regression_model.fit(X_train, Y_train)\n",
    "y_pred = regression_model.predict(X_test)\n",
    "accuracy = regression_model.score(X_test, Y_test)\n",
    "mse = mean_squared_error(Y_test, y_pred)  \n",
    "print(\"Accuracy:\", accuracy)\n",
    "print(\"Mean Squared Error:\", mse)"
   ]
  },
  {
   "cell_type": "code",
   "execution_count": null,
   "id": "fe317eba",
   "metadata": {},
   "outputs": [],
   "source": [
    "models = {\n",
    "    \"XG BOOST\": XGBRegressor(),\n",
    "    \"Decision Tree\": DecisionTreeRegressor(),\n",
    "    \"CatBoost\": CatBoostRegressor(verbose=0),\n",
    "    \"Random Forest\": RandomForestRegressor(),\n",
    "}\n",
    "model_scores = {name: [] for name in models.keys()}\n",
    "for _ in range(10):\n",
    "    X_train, X_test, Y_train, Y_test = preprocess_input(df)\n",
    "    models = {\n",
    "        \"XG BOOST\": XGBRegressor(),\n",
    "        \"Decision Tree\": DecisionTreeRegressor(),\n",
    "        \"CatBoost\": CatBoostRegressor(verbose=0),\n",
    "        \"Random Forest\": RandomForestRegressor(),\n",
    "    }\n",
    "    for name, model in models.items():\n",
    "        regression_model = Pipeline(steps=[('preprocessor', preprocessor),\n",
    "                                   ('regressor', model)])\n",
    "        regression_model.fit(X_train, Y_train)\n",
    "        score = regression_model.score(X_test, Y_test)\n",
    "        model_scores[name].append(score)\n",
    "\n",
    "average_scores = {name: sum(scores) / len(scores) for name, scores in model_scores.items()}\n",
    "# Print average scores\n",
    "for name, avg_score in average_scores.items():\n",
    "    print(f\"{name} Average R^2: {avg_score:.5f}\")"
   ]
  },
  {
   "cell_type": "code",
   "execution_count": null,
   "id": "5b78df61",
   "metadata": {},
   "outputs": [],
   "source": [
    "# train one model\n",
    "model_score = []\n",
    "mse_score = []\n",
    "for _ in range(1):\n",
    "    X_train, X_test, Y_train, Y_test = preprocess_input(df)\n",
    "    regression_model = Pipeline(steps=[('preprocessor', preprocessor),\n",
    "                                   ('regressor', RandomForestRegressor())])\n",
    "    regression_model.fit(X_train, Y_train)\n",
    "    score = regression_model.score(X_test, Y_test)\n",
    "    model_score.append(score)\n",
    "    y_pred = regression_model.predict(X_test)\n",
    "    accuracy = regression_model.score(X_test, Y_test)\n",
    "    mse = mean_squared_error(Y_test, y_pred)  \n",
    "    mse_score.append(mse)\n",
    "\n",
    "print(\"Average score:\", (sum(model_score)/len(model_score) * 100))\n",
    "print(\"Average MSE:\", sum(mse_score)/len(mse_score))"
   ]
  },
  {
   "cell_type": "code",
   "execution_count": null,
   "id": "87c21aac",
   "metadata": {},
   "outputs": [],
   "source": [
    "user_data = get_user_input()\n",
    "user_df = pd.DataFrame([user_data])\n",
    "predicted_price = regression_model.predict(user_df)\n",
    "\n",
    "# Display prediction\n",
    "print(\"Predicted price:\", predicted_price[0])\n"
   ]
  }
 ],
 "metadata": {
  "kernelspec": {
   "display_name": "Python 3 (ipykernel)",
   "language": "python",
   "name": "python3"
  },
  "language_info": {
   "codemirror_mode": {
    "name": "ipython",
    "version": 3
   },
   "file_extension": ".py",
   "mimetype": "text/x-python",
   "name": "python",
   "nbconvert_exporter": "python",
   "pygments_lexer": "ipython3",
   "version": "3.10.12"
  }
 },
 "nbformat": 4,
 "nbformat_minor": 5
}
