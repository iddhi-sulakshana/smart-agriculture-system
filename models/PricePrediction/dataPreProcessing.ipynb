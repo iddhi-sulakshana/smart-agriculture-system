{
 "cells": [
  {
   "cell_type": "code",
   "execution_count": null,
   "metadata": {},
   "outputs": [],
   "source": [
    "import json\n",
    "import pandas as pd"
   ]
  },
  {
   "cell_type": "code",
   "execution_count": null,
   "metadata": {},
   "outputs": [],
   "source": [
    "# Load the dataset\n",
    "with open('./data/unprocessed/pricesList.json') as pricef:\n",
    "    priceData = json.load(pricef)\n",
    "\n",
    "with open(\"./data/unprocessed/productList.json\") as productf:\n",
    "    products = json.load(productf)"
   ]
  },
  {
   "cell_type": "code",
   "execution_count": null,
   "metadata": {},
   "outputs": [],
   "source": [
    "month_map = {\n",
    "    '' : 0,\n",
    "    'Jan': 1,\n",
    "    'Feb': 2,\n",
    "    'Mar': 3,\n",
    "    'Apr': 4,\n",
    "    'May': 5,\n",
    "    'Jun': 6,\n",
    "    'June': 6,\n",
    "    'Jul': 7,\n",
    "    'July': 7,\n",
    "    'Aug': 8,\n",
    "    'Sep': 9,\n",
    "    'Oct': 10,\n",
    "    'Nov': 11,\n",
    "    'Dec': 12\n",
    "}"
   ]
  },
  {
   "cell_type": "code",
   "execution_count": null,
   "metadata": {},
   "outputs": [],
   "source": [
    "# initialize lists to store extracted products data\n",
    "codeName = []\n",
    "product = []\n",
    "category = []\n",
    "\n",
    "for p in products:\n",
    "      codeName.append(p[\"product\"])\n",
    "      product.append(p[\"name\"])\n",
    "      category.append(p[\"category\"])\n",
    "    "
   ]
  },
  {
   "cell_type": "code",
   "execution_count": null,
   "metadata": {},
   "outputs": [],
   "source": [
    "\n",
    "# Initialize lists to store extracted price data\n",
    "names = []\n",
    "prices = []\n",
    "weeks = []\n",
    "months = []\n",
    "years = []\n",
    "seasons = []\n",
    "\n",
    "# Iterate over each week's data\n",
    "for week_data in priceData:\n",
    "    # Extract the week, month, and year from the date\n",
    "    # Ordinal Encoding\n",
    "    date_parts = week_data['Date'].split('.')\n",
    "    week = int(date_parts[0][1:])\n",
    "    month = month_map.get(date_parts[1])\n",
    "    year = int(date_parts[2])\n",
    "\n",
    "    if month in range(3, 5):\n",
    "        season = \"First Inter-monsoon Season\"\n",
    "    elif month in range(5, 10):\n",
    "        season = \"South-West Monsoon Season\"\n",
    "    elif month in range(10, 12):\n",
    "        season = \"Second Inter-monsoon Season\"\n",
    "    else:\n",
    "        season = \"North-East Monsoon Season\"\n",
    "    \n",
    "    # Iterate over each item in the week's data\n",
    "    for item_name, price in week_data.items():\n",
    "        # Skip the 'Date' key\n",
    "        if item_name == 'Date':            \n",
    "            continue\n",
    "        # skip imported items\n",
    "        if \"Imported\" in item_name:\n",
    "            continue\n",
    "        # skip SPICES and FISH items\n",
    "        if \"SPICES\" in item_name:\n",
    "            continue\n",
    "        if \"FISH\" in item_name:\n",
    "            continue\n",
    "        if \"Fish\" in item_name:\n",
    "            continue\n",
    "        if \"MEAT\" in item_name:\n",
    "            continue\n",
    "        if \"BAKERY\" in item_name:\n",
    "            continue\n",
    "        if \"MILK\" in item_name:\n",
    "            continue\n",
    "        if \"COCONUT\" in item_name:\n",
    "            continue\n",
    "        if \"EGGS\" in item_name:\n",
    "            continue\n",
    "        if \"FLOUR\" in item_name:\n",
    "            continue\n",
    "        if (\"Carrot_UPCVEG_1kg\" not in item_name) and (\"Leeks_UPCVEG_1kg\" not in item_name) and (\"Green_Chillies_LCVEG_1kg\" not in item_name) and (\"BeetRoot_UPCVEG_1kg\" not in item_name):\n",
    "            continue\n",
    "        # Append extracted data to lists\n",
    "        names.append(item_name)\n",
    "        prices.append(price)\n",
    "        weeks.append(week)\n",
    "        months.append(month)\n",
    "        years.append(year)\n",
    "        seasons.append(season)"
   ]
  },
  {
   "cell_type": "code",
   "execution_count": null,
   "metadata": {},
   "outputs": [],
   "source": [
    "# Create a DataFrame from the extracted data\n",
    "df = pd.DataFrame({\n",
    "    'Name': names,\n",
    "    'Price': prices,\n",
    "    'Week': weeks,\n",
    "    'Month': months,\n",
    "    'Year': years,\n",
    "    \"Season\": seasons\n",
    "})\n",
    "\n",
    "df1 = pd.DataFrame({\n",
    "    \"code\": codeName,\n",
    "    \"name\": product,\n",
    "    \"category\": category\n",
    "})"
   ]
  },
  {
   "cell_type": "code",
   "execution_count": null,
   "metadata": {},
   "outputs": [],
   "source": [
    "# Save the DataFrame to a CSV file\n",
    "df.to_csv('./data/processed/pricesList.csv', index=False)\n",
    "df1.to_csv('./data/processed/productList.csv', index=False)\n",
    "print(\"CSV file saved successfully.\")"
   ]
  }
 ],
 "metadata": {
  "kernelspec": {
   "display_name": "Python 3",
   "language": "python",
   "name": "python3"
  },
  "language_info": {
   "codemirror_mode": {
    "name": "ipython",
    "version": 3
   },
   "file_extension": ".py",
   "mimetype": "text/x-python",
   "name": "python",
   "nbconvert_exporter": "python",
   "pygments_lexer": "ipython3",
   "version": "3.10.12"
  }
 },
 "nbformat": 4,
 "nbformat_minor": 2
}
